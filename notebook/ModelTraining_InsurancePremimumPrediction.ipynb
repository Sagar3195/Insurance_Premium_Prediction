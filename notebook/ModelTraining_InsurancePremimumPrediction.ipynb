{
  "cells": [
    {
      "cell_type": "code",
      "execution_count": 3,
      "metadata": {
        "id": "fq2cdb7L1EHe"
      },
      "outputs": [],
      "source": [
        "#Importing required libraries\n",
        "import numpy as np\n",
        "import pandas as pd\n",
        "import seaborn as sns\n",
        "import matplotlib.pyplot as plt\n",
        "from sklearn.linear_model import LinearRegression, Lasso, Ridge\n",
        "from sklearn.neighbors import KNeighborsRegressor\n",
        "from sklearn.tree import DecisionTreeRegressor\n",
        "from sklearn.ensemble import RandomForestRegressor, GradientBoostingRegressor, AdaBoostRegressor \n",
        "from sklearn.model_selection import train_test_split\n",
        "from sklearn.metrics import mean_squared_error, mean_absolute_error, r2_score\n",
        "from sklearn.preprocessing import StandardScaler, OneHotEncoder, LabelEncoder\n",
        "from xgboost import XGBRegressor\n",
        "from sklearn.compose import ColumnTransformer\n",
        "from sklearn.pipeline import Pipeline\n",
        "import warnings\n",
        "warnings.filterwarnings('ignore')"
      ]
    },
    {
      "cell_type": "code",
      "execution_count": 4,
      "metadata": {
        "id": "eupX8rlw1HpX"
      },
      "outputs": [],
      "source": [
        "#Loading dataset\n",
        "df = pd.read_csv(\"dataset/insurance.csv\")"
      ]
    },
    {
      "cell_type": "code",
      "execution_count": 5,
      "metadata": {
        "colab": {
          "base_uri": "https://localhost:8080/",
          "height": 206
        },
        "id": "E2HIE_gO1T3U",
        "outputId": "25edfee5-67a4-4403-8f1a-893584e9b206"
      },
      "outputs": [
        {
          "data": {
            "text/html": [
              "<div>\n",
              "<style scoped>\n",
              "    .dataframe tbody tr th:only-of-type {\n",
              "        vertical-align: middle;\n",
              "    }\n",
              "\n",
              "    .dataframe tbody tr th {\n",
              "        vertical-align: top;\n",
              "    }\n",
              "\n",
              "    .dataframe thead th {\n",
              "        text-align: right;\n",
              "    }\n",
              "</style>\n",
              "<table border=\"1\" class=\"dataframe\">\n",
              "  <thead>\n",
              "    <tr style=\"text-align: right;\">\n",
              "      <th></th>\n",
              "      <th>age</th>\n",
              "      <th>sex</th>\n",
              "      <th>bmi</th>\n",
              "      <th>children</th>\n",
              "      <th>smoker</th>\n",
              "      <th>region</th>\n",
              "      <th>expenses</th>\n",
              "    </tr>\n",
              "  </thead>\n",
              "  <tbody>\n",
              "    <tr>\n",
              "      <th>0</th>\n",
              "      <td>19</td>\n",
              "      <td>female</td>\n",
              "      <td>27.9</td>\n",
              "      <td>0</td>\n",
              "      <td>yes</td>\n",
              "      <td>southwest</td>\n",
              "      <td>16884.92</td>\n",
              "    </tr>\n",
              "    <tr>\n",
              "      <th>1</th>\n",
              "      <td>18</td>\n",
              "      <td>male</td>\n",
              "      <td>33.8</td>\n",
              "      <td>1</td>\n",
              "      <td>no</td>\n",
              "      <td>southeast</td>\n",
              "      <td>1725.55</td>\n",
              "    </tr>\n",
              "    <tr>\n",
              "      <th>2</th>\n",
              "      <td>28</td>\n",
              "      <td>male</td>\n",
              "      <td>33.0</td>\n",
              "      <td>3</td>\n",
              "      <td>no</td>\n",
              "      <td>southeast</td>\n",
              "      <td>4449.46</td>\n",
              "    </tr>\n",
              "    <tr>\n",
              "      <th>3</th>\n",
              "      <td>33</td>\n",
              "      <td>male</td>\n",
              "      <td>22.7</td>\n",
              "      <td>0</td>\n",
              "      <td>no</td>\n",
              "      <td>northwest</td>\n",
              "      <td>21984.47</td>\n",
              "    </tr>\n",
              "    <tr>\n",
              "      <th>4</th>\n",
              "      <td>32</td>\n",
              "      <td>male</td>\n",
              "      <td>28.9</td>\n",
              "      <td>0</td>\n",
              "      <td>no</td>\n",
              "      <td>northwest</td>\n",
              "      <td>3866.86</td>\n",
              "    </tr>\n",
              "  </tbody>\n",
              "</table>\n",
              "</div>"
            ],
            "text/plain": [
              "   age     sex   bmi  children smoker     region  expenses\n",
              "0   19  female  27.9         0    yes  southwest  16884.92\n",
              "1   18    male  33.8         1     no  southeast   1725.55\n",
              "2   28    male  33.0         3     no  southeast   4449.46\n",
              "3   33    male  22.7         0     no  northwest  21984.47\n",
              "4   32    male  28.9         0     no  northwest   3866.86"
            ]
          },
          "execution_count": 5,
          "metadata": {},
          "output_type": "execute_result"
        }
      ],
      "source": [
        "#top 5 records of dataset\n",
        "df.head()"
      ]
    },
    {
      "cell_type": "code",
      "execution_count": 6,
      "metadata": {
        "colab": {
          "base_uri": "https://localhost:8080/"
        },
        "id": "72USs9ud1Hsh",
        "outputId": "f6eb6445-b63f-4636-eed9-360f9c5e26ca"
      },
      "outputs": [
        {
          "data": {
            "text/plain": [
              "(1338, 7)"
            ]
          },
          "execution_count": 6,
          "metadata": {},
          "output_type": "execute_result"
        }
      ],
      "source": [
        "#Shape of dataset\n",
        "df.shape"
      ]
    },
    {
      "cell_type": "code",
      "execution_count": 7,
      "metadata": {
        "colab": {
          "base_uri": "https://localhost:8080/"
        },
        "id": "QsVbcP5u1HyE",
        "outputId": "ba39a5d4-08f2-4a63-c9c3-cfb5596758b4"
      },
      "outputs": [
        {
          "data": {
            "text/plain": [
              "1"
            ]
          },
          "execution_count": 7,
          "metadata": {},
          "output_type": "execute_result"
        }
      ],
      "source": [
        "#Check duplicated values in dataset\n",
        "df.duplicated().sum()"
      ]
    },
    {
      "cell_type": "code",
      "execution_count": 8,
      "metadata": {
        "id": "k2s6wKHz1H12"
      },
      "outputs": [],
      "source": [
        "#Here we will drop one duplicated value from dataset.\n",
        "df.drop_duplicates(inplace=True)"
      ]
    },
    {
      "cell_type": "code",
      "execution_count": 9,
      "metadata": {
        "colab": {
          "base_uri": "https://localhost:8080/"
        },
        "id": "Y3gqCDdz1H3r",
        "outputId": "dc03c7e5-0154-4026-9d9f-cd9aa985e5ad"
      },
      "outputs": [
        {
          "data": {
            "text/plain": [
              "0"
            ]
          },
          "execution_count": 9,
          "metadata": {},
          "output_type": "execute_result"
        }
      ],
      "source": [
        "df.duplicated().sum()"
      ]
    },
    {
      "cell_type": "code",
      "execution_count": 10,
      "metadata": {
        "colab": {
          "base_uri": "https://localhost:8080/"
        },
        "id": "x8fifVZV1H6N",
        "outputId": "2b16cae8-42ad-493b-d489-e190221a6bc3"
      },
      "outputs": [
        {
          "data": {
            "text/plain": [
              "age         0\n",
              "sex         0\n",
              "bmi         0\n",
              "children    0\n",
              "smoker      0\n",
              "region      0\n",
              "expenses    0\n",
              "dtype: int64"
            ]
          },
          "execution_count": 10,
          "metadata": {},
          "output_type": "execute_result"
        }
      ],
      "source": [
        "#Check null values in dataset\n",
        "df.isnull().sum()"
      ]
    },
    {
      "cell_type": "code",
      "execution_count": 11,
      "metadata": {
        "id": "wR-bysY21H9A"
      },
      "outputs": [],
      "source": [
        "#There is no missing values in dataset"
      ]
    },
    {
      "cell_type": "code",
      "execution_count": 12,
      "metadata": {
        "colab": {
          "base_uri": "https://localhost:8080/"
        },
        "id": "zfOfQnfB1IA1",
        "outputId": "e2d2b3c4-77dd-4e20-adb4-4f6d11ca9af1"
      },
      "outputs": [
        {
          "data": {
            "text/plain": [
              "Index(['age', 'sex', 'bmi', 'children', 'smoker', 'region', 'expenses'], dtype='object')"
            ]
          },
          "execution_count": 12,
          "metadata": {},
          "output_type": "execute_result"
        }
      ],
      "source": [
        "#Columns of dataset\n",
        "df.columns"
      ]
    },
    {
      "cell_type": "code",
      "execution_count": 13,
      "metadata": {
        "colab": {
          "base_uri": "https://localhost:8080/"
        },
        "id": "esTv-CKP1IEI",
        "outputId": "79f886df-e55f-4fe4-a933-a5d5602fce41"
      },
      "outputs": [
        {
          "data": {
            "text/plain": [
              "Index(['sex', 'smoker', 'region'], dtype='object')"
            ]
          },
          "execution_count": 13,
          "metadata": {},
          "output_type": "execute_result"
        }
      ],
      "source": [
        "df.select_dtypes(include='object').columns"
      ]
    },
    {
      "cell_type": "code",
      "execution_count": 14,
      "metadata": {
        "id": "jBJkVN7m1IHh"
      },
      "outputs": [],
      "source": [
        "#Independent and Dependent Variables\n",
        "X= df.drop('expenses', axis = 1)\n",
        "y= df[['expenses']]"
      ]
    },
    {
      "cell_type": "code",
      "execution_count": 15,
      "metadata": {
        "colab": {
          "base_uri": "https://localhost:8080/",
          "height": 206
        },
        "id": "UNN-SljH1ILE",
        "outputId": "ddf0aed4-3b59-4c4b-9011-7617b138eb57"
      },
      "outputs": [
        {
          "data": {
            "text/html": [
              "<div>\n",
              "<style scoped>\n",
              "    .dataframe tbody tr th:only-of-type {\n",
              "        vertical-align: middle;\n",
              "    }\n",
              "\n",
              "    .dataframe tbody tr th {\n",
              "        vertical-align: top;\n",
              "    }\n",
              "\n",
              "    .dataframe thead th {\n",
              "        text-align: right;\n",
              "    }\n",
              "</style>\n",
              "<table border=\"1\" class=\"dataframe\">\n",
              "  <thead>\n",
              "    <tr style=\"text-align: right;\">\n",
              "      <th></th>\n",
              "      <th>age</th>\n",
              "      <th>sex</th>\n",
              "      <th>bmi</th>\n",
              "      <th>children</th>\n",
              "      <th>smoker</th>\n",
              "      <th>region</th>\n",
              "    </tr>\n",
              "  </thead>\n",
              "  <tbody>\n",
              "    <tr>\n",
              "      <th>0</th>\n",
              "      <td>19</td>\n",
              "      <td>female</td>\n",
              "      <td>27.9</td>\n",
              "      <td>0</td>\n",
              "      <td>yes</td>\n",
              "      <td>southwest</td>\n",
              "    </tr>\n",
              "    <tr>\n",
              "      <th>1</th>\n",
              "      <td>18</td>\n",
              "      <td>male</td>\n",
              "      <td>33.8</td>\n",
              "      <td>1</td>\n",
              "      <td>no</td>\n",
              "      <td>southeast</td>\n",
              "    </tr>\n",
              "    <tr>\n",
              "      <th>2</th>\n",
              "      <td>28</td>\n",
              "      <td>male</td>\n",
              "      <td>33.0</td>\n",
              "      <td>3</td>\n",
              "      <td>no</td>\n",
              "      <td>southeast</td>\n",
              "    </tr>\n",
              "    <tr>\n",
              "      <th>3</th>\n",
              "      <td>33</td>\n",
              "      <td>male</td>\n",
              "      <td>22.7</td>\n",
              "      <td>0</td>\n",
              "      <td>no</td>\n",
              "      <td>northwest</td>\n",
              "    </tr>\n",
              "    <tr>\n",
              "      <th>4</th>\n",
              "      <td>32</td>\n",
              "      <td>male</td>\n",
              "      <td>28.9</td>\n",
              "      <td>0</td>\n",
              "      <td>no</td>\n",
              "      <td>northwest</td>\n",
              "    </tr>\n",
              "  </tbody>\n",
              "</table>\n",
              "</div>"
            ],
            "text/plain": [
              "   age     sex   bmi  children smoker     region\n",
              "0   19  female  27.9         0    yes  southwest\n",
              "1   18    male  33.8         1     no  southeast\n",
              "2   28    male  33.0         3     no  southeast\n",
              "3   33    male  22.7         0     no  northwest\n",
              "4   32    male  28.9         0     no  northwest"
            ]
          },
          "execution_count": 15,
          "metadata": {},
          "output_type": "execute_result"
        }
      ],
      "source": [
        "X.head()"
      ]
    },
    {
      "cell_type": "code",
      "execution_count": 16,
      "metadata": {
        "colab": {
          "base_uri": "https://localhost:8080/",
          "height": 206
        },
        "id": "pMZqIyFe1IOf",
        "outputId": "3fb86dd2-d972-4823-983a-9234a4393847"
      },
      "outputs": [
        {
          "data": {
            "text/html": [
              "<div>\n",
              "<style scoped>\n",
              "    .dataframe tbody tr th:only-of-type {\n",
              "        vertical-align: middle;\n",
              "    }\n",
              "\n",
              "    .dataframe tbody tr th {\n",
              "        vertical-align: top;\n",
              "    }\n",
              "\n",
              "    .dataframe thead th {\n",
              "        text-align: right;\n",
              "    }\n",
              "</style>\n",
              "<table border=\"1\" class=\"dataframe\">\n",
              "  <thead>\n",
              "    <tr style=\"text-align: right;\">\n",
              "      <th></th>\n",
              "      <th>expenses</th>\n",
              "    </tr>\n",
              "  </thead>\n",
              "  <tbody>\n",
              "    <tr>\n",
              "      <th>0</th>\n",
              "      <td>16884.92</td>\n",
              "    </tr>\n",
              "    <tr>\n",
              "      <th>1</th>\n",
              "      <td>1725.55</td>\n",
              "    </tr>\n",
              "    <tr>\n",
              "      <th>2</th>\n",
              "      <td>4449.46</td>\n",
              "    </tr>\n",
              "    <tr>\n",
              "      <th>3</th>\n",
              "      <td>21984.47</td>\n",
              "    </tr>\n",
              "    <tr>\n",
              "      <th>4</th>\n",
              "      <td>3866.86</td>\n",
              "    </tr>\n",
              "  </tbody>\n",
              "</table>\n",
              "</div>"
            ],
            "text/plain": [
              "   expenses\n",
              "0  16884.92\n",
              "1   1725.55\n",
              "2   4449.46\n",
              "3  21984.47\n",
              "4   3866.86"
            ]
          },
          "execution_count": 16,
          "metadata": {},
          "output_type": "execute_result"
        }
      ],
      "source": [
        "y.head()"
      ]
    },
    {
      "cell_type": "code",
      "execution_count": 17,
      "metadata": {
        "colab": {
          "base_uri": "https://localhost:8080/"
        },
        "id": "_psW3Akk1ISF",
        "outputId": "ca207fcd-656d-4f83-8b61-294ab3f3ac69"
      },
      "outputs": [
        {
          "data": {
            "text/plain": [
              "((1337, 6), (1337, 1))"
            ]
          },
          "execution_count": 17,
          "metadata": {},
          "output_type": "execute_result"
        }
      ],
      "source": [
        "X.shape, y.shape"
      ]
    },
    {
      "cell_type": "code",
      "execution_count": 18,
      "metadata": {
        "colab": {
          "base_uri": "https://localhost:8080/"
        },
        "id": "6qDHRgle1IVj",
        "outputId": "bbcb4406-1957-43bf-dd94-f39f3760195a"
      },
      "outputs": [
        {
          "name": "stdout",
          "output_type": "stream",
          "text": [
            "Categorical Features:  Index(['sex', 'smoker', 'region'], dtype='object')\n",
            "Numerical Features:  Index(['age', 'bmi', 'children'], dtype='object')\n"
          ]
        }
      ],
      "source": [
        "#Separate categorical features and numerical features\n",
        "categorical_columns= X.dtypes[X.dtypes=='object'].index\n",
        "numerical_columns= X.dtypes[X.dtypes!='object'].index\n",
        "\n",
        "print(\"Categorical Features: \", categorical_columns)\n",
        "print(\"Numerical Features: \", numerical_columns)"
      ]
    },
    {
      "cell_type": "code",
      "execution_count": 19,
      "metadata": {
        "colab": {
          "base_uri": "https://localhost:8080/"
        },
        "id": "I2sGpGAA1IYV",
        "outputId": "a93dc7c0-4d2d-4e8e-f3cd-3e7bc721e19f"
      },
      "outputs": [
        {
          "name": "stdout",
          "output_type": "stream",
          "text": [
            "sex ['female' 'male']\n",
            "=========================\n",
            "smoker ['yes' 'no']\n",
            "=========================\n",
            "region ['southwest' 'southeast' 'northwest' 'northeast']\n",
            "=========================\n"
          ]
        }
      ],
      "source": [
        "#Unique values in categorical features\n",
        "for col in categorical_columns:\n",
        "  print(col, df[col].unique())\n",
        "  print(\"=\"*25)\n"
      ]
    },
    {
      "cell_type": "code",
      "execution_count": 20,
      "metadata": {
        "id": "nHQzVeIA1Ib-"
      },
      "outputs": [],
      "source": [
        "#Numerical pipeline\n",
        "#Numerical pipeline\n",
        "num_pipeline= Pipeline(\n",
        "    steps= [\n",
        "        ('scaler', StandardScaler()) \n",
        "    ]\n",
        ")\n",
        "\n",
        "\n",
        "#Categorical Pipeline\n",
        "cat_pipeline= Pipeline(\n",
        "    steps= [\n",
        "        ('one_hot_encoder', OneHotEncoder()),\n",
        "        ('scaler', StandardScaler(with_mean=False))\n",
        "    ]\n",
        ")\n",
        "\n",
        "preprocessor= ColumnTransformer([\n",
        "    ('num_pipeline', num_pipeline, numerical_columns),\n",
        "    ('cat_pipeline', cat_pipeline, categorical_columns)\n",
        "])"
      ]
    },
    {
      "cell_type": "code",
      "execution_count": 23,
      "metadata": {
        "id": "JuuCZdZQ1IfQ"
      },
      "outputs": [],
      "source": [
        "#Train-test split\n",
        "from sklearn.model_selection import train_test_split\n",
        "x_train, x_test, y_train, y_test= train_test_split(X,y, test_size= 0.2, random_state= 42)"
      ]
    },
    {
      "cell_type": "code",
      "execution_count": 24,
      "metadata": {
        "colab": {
          "base_uri": "https://localhost:8080/"
        },
        "id": "IdYsi6ci1IjV",
        "outputId": "a58f596a-8796-43e5-e547-fba1afea1e73"
      },
      "outputs": [
        {
          "data": {
            "text/plain": [
              "((1069, 6), (268, 6))"
            ]
          },
          "execution_count": 24,
          "metadata": {},
          "output_type": "execute_result"
        }
      ],
      "source": [
        "x_train.shape, x_test.shape"
      ]
    },
    {
      "cell_type": "code",
      "execution_count": 25,
      "metadata": {
        "colab": {
          "base_uri": "https://localhost:8080/"
        },
        "id": "l1wXRSJg1Im0",
        "outputId": "0c319692-62dd-4256-9848-cc30be5cb05a"
      },
      "outputs": [
        {
          "data": {
            "text/plain": [
              "((1069, 1), (268, 1))"
            ]
          },
          "execution_count": 25,
          "metadata": {},
          "output_type": "execute_result"
        }
      ],
      "source": [
        "y_train.shape, y_test.shape"
      ]
    },
    {
      "cell_type": "code",
      "execution_count": 26,
      "metadata": {
        "id": "wD4Vh4Kj1Iux"
      },
      "outputs": [],
      "source": [
        "#Transforming dataset\n",
        "x_train= pd.DataFrame(preprocessor.fit_transform(x_train), columns= preprocessor.get_feature_names_out())\n",
        "x_test= pd.DataFrame(preprocessor.transform(x_test), columns= preprocessor.get_feature_names_out())"
      ]
    },
    {
      "attachments": {},
      "cell_type": "markdown",
      "metadata": {
        "id": "V_RXVal6HmyF"
      },
      "source": [
        "### Model Training"
      ]
    },
    {
      "cell_type": "code",
      "execution_count": 27,
      "metadata": {
        "id": "7xp6eJUK1IyE"
      },
      "outputs": [],
      "source": [
        "#Create function for evaluating metrics of the models\n",
        "\n",
        "def evalute_models(true, predicted):\n",
        "  mae= mean_absolute_error(true, predicted)\n",
        "  mse = mean_squared_error(true, predicted)\n",
        "  rmse= np.sqrt(mean_squared_error(true, predicted))\n",
        "  score= r2_score(true, predicted)\n",
        "  return mae, rmse, score"
      ]
    },
    {
      "cell_type": "code",
      "execution_count": 28,
      "metadata": {
        "colab": {
          "base_uri": "https://localhost:8080/"
        },
        "id": "Mea26nBi1I0h",
        "outputId": "df6986c9-2139-4ed4-bd07-2086fcd76044"
      },
      "outputs": [
        {
          "name": "stdout",
          "output_type": "stream",
          "text": [
            "Linear Regression\n",
            "Model Training Performance\n",
            "RMSE:  592151.1252587889\n",
            "MAE:  414703.43656716414\n",
            "R2 Score:  80.91802039485573\n",
            "==============================\n",
            "Ridge\n",
            "Model Training Performance\n",
            "RMSE:  595831.8836352848\n",
            "MAE:  417847.2061010102\n",
            "R2 Score:  80.68005936059993\n",
            "==============================\n",
            "Lasso\n",
            "Model Training Performance\n",
            "RMSE:  595720.8475870077\n",
            "MAE:  417746.77259615954\n",
            "R2 Score:  80.68725941160602\n",
            "==============================\n",
            "KNieghborsRegressor\n",
            "Model Training Performance\n",
            "RMSE:  551134.0913722184\n",
            "MAE:  349434.4276119403\n",
            "R2 Score:  83.46999970390272\n",
            "==============================\n",
            "DecisionTree Regressor\n",
            "Model Training Performance\n",
            "RMSE:  637761.5134862764\n",
            "MAE:  293567.0298507462\n",
            "R2 Score:  77.8652345251563\n",
            "==============================\n",
            "RandomForest Regressor\n",
            "Model Training Performance\n",
            "RMSE:  474729.3232816422\n",
            "MAE:  267363.09600746265\n",
            "R2 Score:  87.73548366471795\n",
            "==============================\n",
            "XGB Regressor\n",
            "Model Training Performance\n",
            "RMSE:  509077.67336905457\n",
            "MAE:  298977.5964947601\n",
            "R2 Score:  85.89651598244689\n",
            "==============================\n",
            "GradientBoostingRegressor\n",
            "Model Training Performance\n",
            "RMSE:  432599.69196550176\n",
            "MAE:  257043.2389249326\n",
            "R2 Score:  89.81571084886923\n",
            "==============================\n",
            "AdaBoostRegressor\n",
            "Model Training Performance\n",
            "RMSE:  491870.28445626545\n",
            "MAE:  400814.3232722743\n",
            "R2 Score:  86.83382928765037\n",
            "==============================\n"
          ]
        }
      ],
      "source": [
        "#Training multiple models\n",
        "\n",
        "models= {\n",
        "    \"Linear Regression\": LinearRegression(),\n",
        "    'Ridge': Ridge(),\n",
        "    \"Lasso\": Lasso(),\n",
        "    \"KNieghborsRegressor\": KNeighborsRegressor(),\n",
        "    \"DecisionTree Regressor\": DecisionTreeRegressor(),\n",
        "    \"RandomForest Regressor\": RandomForestRegressor(),\n",
        "    \"XGB Regressor\": XGBRegressor(),\n",
        "    \"GradientBoostingRegressor\": GradientBoostingRegressor(),\n",
        "    \"AdaBoostRegressor\": AdaBoostRegressor()\n",
        "}\n",
        "\n",
        "model_list= []\n",
        "r2_score_list= []\n",
        "\n",
        "for i in range(len(list(models))):\n",
        "  model= list(models.values())[i]\n",
        "  #Train the model\n",
        "  model.fit(x_train, y_train)\n",
        "  #Make Prediction\n",
        "  y_predict = model.predict(x_test)\n",
        "  \n",
        "  mae, rmse, score= evalute_models(y_test, y_predict)\n",
        "  print(list(models.keys())[i])\n",
        "\n",
        "  model_list.append(list(models.keys())[i])\n",
        "  r2_score_list.append(score)\n",
        "  print(\"Model Training Performance\")\n",
        "  print(\"RMSE: \", rmse*100)\n",
        "  print(\"MAE: \", mae*100)\n",
        "  print(\"R2 Score: \", score*100)\n",
        "  print(\"=\"*30)"
      ]
    },
    {
      "cell_type": "code",
      "execution_count": 29,
      "metadata": {
        "colab": {
          "base_uri": "https://localhost:8080/"
        },
        "id": "BQbnsMbYK9rw",
        "outputId": "b2923dc1-17de-4b24-82ad-8a8f972b7a12"
      },
      "outputs": [
        {
          "data": {
            "text/plain": [
              "[0.8091802039485573,\n",
              " 0.8068005936059992,\n",
              " 0.8068725941160603,\n",
              " 0.8346999970390271,\n",
              " 0.778652345251563,\n",
              " 0.8773548366471795,\n",
              " 0.8589651598244689,\n",
              " 0.8981571084886922,\n",
              " 0.8683382928765038]"
            ]
          },
          "execution_count": 29,
          "metadata": {},
          "output_type": "execute_result"
        }
      ],
      "source": [
        "r2_score_list"
      ]
    },
    {
      "attachments": {},
      "cell_type": "markdown",
      "metadata": {},
      "source": []
    },
    {
      "cell_type": "code",
      "execution_count": 30,
      "metadata": {
        "colab": {
          "base_uri": "https://localhost:8080/",
          "height": 331
        },
        "id": "ef_I24WY1I4Q",
        "outputId": "4bbc3f3a-c485-4075-eaca-7a3f027ba305"
      },
      "outputs": [
        {
          "data": {
            "text/html": [
              "<div>\n",
              "<style scoped>\n",
              "    .dataframe tbody tr th:only-of-type {\n",
              "        vertical-align: middle;\n",
              "    }\n",
              "\n",
              "    .dataframe tbody tr th {\n",
              "        vertical-align: top;\n",
              "    }\n",
              "\n",
              "    .dataframe thead th {\n",
              "        text-align: right;\n",
              "    }\n",
              "</style>\n",
              "<table border=\"1\" class=\"dataframe\">\n",
              "  <thead>\n",
              "    <tr style=\"text-align: right;\">\n",
              "      <th></th>\n",
              "      <th>Model_name</th>\n",
              "      <th>R2_scores</th>\n",
              "    </tr>\n",
              "  </thead>\n",
              "  <tbody>\n",
              "    <tr>\n",
              "      <th>7</th>\n",
              "      <td>GradientBoostingRegressor</td>\n",
              "      <td>0.898157</td>\n",
              "    </tr>\n",
              "    <tr>\n",
              "      <th>5</th>\n",
              "      <td>RandomForest Regressor</td>\n",
              "      <td>0.877355</td>\n",
              "    </tr>\n",
              "    <tr>\n",
              "      <th>8</th>\n",
              "      <td>AdaBoostRegressor</td>\n",
              "      <td>0.868338</td>\n",
              "    </tr>\n",
              "    <tr>\n",
              "      <th>6</th>\n",
              "      <td>XGB Regressor</td>\n",
              "      <td>0.858965</td>\n",
              "    </tr>\n",
              "    <tr>\n",
              "      <th>3</th>\n",
              "      <td>KNieghborsRegressor</td>\n",
              "      <td>0.834700</td>\n",
              "    </tr>\n",
              "    <tr>\n",
              "      <th>0</th>\n",
              "      <td>Linear Regression</td>\n",
              "      <td>0.809180</td>\n",
              "    </tr>\n",
              "    <tr>\n",
              "      <th>2</th>\n",
              "      <td>Lasso</td>\n",
              "      <td>0.806873</td>\n",
              "    </tr>\n",
              "    <tr>\n",
              "      <th>1</th>\n",
              "      <td>Ridge</td>\n",
              "      <td>0.806801</td>\n",
              "    </tr>\n",
              "    <tr>\n",
              "      <th>4</th>\n",
              "      <td>DecisionTree Regressor</td>\n",
              "      <td>0.778652</td>\n",
              "    </tr>\n",
              "  </tbody>\n",
              "</table>\n",
              "</div>"
            ],
            "text/plain": [
              "                  Model_name  R2_scores\n",
              "7  GradientBoostingRegressor   0.898157\n",
              "5     RandomForest Regressor   0.877355\n",
              "8          AdaBoostRegressor   0.868338\n",
              "6              XGB Regressor   0.858965\n",
              "3        KNieghborsRegressor   0.834700\n",
              "0          Linear Regression   0.809180\n",
              "2                      Lasso   0.806873\n",
              "1                      Ridge   0.806801\n",
              "4     DecisionTree Regressor   0.778652"
            ]
          },
          "execution_count": 30,
          "metadata": {},
          "output_type": "execute_result"
        }
      ],
      "source": [
        "pd.DataFrame({\"Model_name\":model_list,\"R2_scores\": r2_score_list}).sort_values(by= 'R2_scores' , ascending= False)"
      ]
    },
    {
      "cell_type": "code",
      "execution_count": 31,
      "metadata": {
        "id": "TZ_KUbjS1I8H"
      },
      "outputs": [],
      "source": [
        "#From the above we can say that, out of all above regression models, the GradientBoostingRegressor moels gives better accuracy 89% with good RMSE value."
      ]
    },
    {
      "cell_type": "code",
      "execution_count": null,
      "metadata": {
        "id": "biEc_f1Q1JCg"
      },
      "outputs": [],
      "source": []
    },
    {
      "cell_type": "code",
      "execution_count": null,
      "metadata": {},
      "outputs": [],
      "source": []
    },
    {
      "cell_type": "code",
      "execution_count": null,
      "metadata": {},
      "outputs": [],
      "source": []
    }
  ],
  "metadata": {
    "colab": {
      "provenance": []
    },
    "kernelspec": {
      "display_name": "Python 3",
      "name": "python3"
    },
    "language_info": {
      "codemirror_mode": {
        "name": "ipython",
        "version": 3
      },
      "file_extension": ".py",
      "mimetype": "text/x-python",
      "name": "python",
      "nbconvert_exporter": "python",
      "pygments_lexer": "ipython3",
      "version": "3.8.0"
    }
  },
  "nbformat": 4,
  "nbformat_minor": 0
}
